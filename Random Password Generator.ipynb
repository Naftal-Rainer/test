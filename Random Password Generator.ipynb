{
 "cells": [
  {
   "cell_type": "code",
   "execution_count": 1,
   "id": "9f793a4b",
   "metadata": {},
   "outputs": [],
   "source": [
    "import random\n",
    "import string"
   ]
  },
  {
   "cell_type": "code",
   "execution_count": 8,
   "id": "8b7b0e8c",
   "metadata": {},
   "outputs": [],
   "source": [
    "letters_upper = string.ascii_uppercase\n",
    "letters_lower = string.ascii_lowercase\n",
    "digits = string.digits\n",
    "symbols = string.punctuation"
   ]
  },
  {
   "cell_type": "code",
   "execution_count": 15,
   "id": "b8266eff",
   "metadata": {},
   "outputs": [],
   "source": [
    "def randomPasswordGenerator():\n",
    "    a = random.sample(letters_upper,2)\n",
    "    b = random.sample(letters_lower,2)\n",
    "    c = random.sample(digits,2)\n",
    "    d = random.sample(symbols,2)\n",
    "    sample_passw = list(a + b + c + d)\n",
    "    random.shuffle(sample_passw)\n",
    "    password = ''.join(sample_passw)\n",
    "    return password"
   ]
  },
  {
   "cell_type": "code",
   "execution_count": 18,
   "id": "90da4093",
   "metadata": {},
   "outputs": [
    {
     "name": "stdout",
     "output_type": "stream",
     "text": [
      "Your 8 digit password is: 5!e0AcV(\n"
     ]
    }
   ],
   "source": [
    "print('Your 8 digit password is: ' + randomPasswordGenerator())"
   ]
  },
  {
   "cell_type": "code",
   "execution_count": null,
   "id": "02247f9f",
   "metadata": {},
   "outputs": [],
   "source": []
  }
 ],
 "metadata": {
  "kernelspec": {
   "display_name": "Python 3",
   "language": "python",
   "name": "python3"
  },
  "language_info": {
   "codemirror_mode": {
    "name": "ipython",
    "version": 3
   },
   "file_extension": ".py",
   "mimetype": "text/x-python",
   "name": "python",
   "nbconvert_exporter": "python",
   "pygments_lexer": "ipython3",
   "version": "3.7.2"
  }
 },
 "nbformat": 4,
 "nbformat_minor": 5
}
